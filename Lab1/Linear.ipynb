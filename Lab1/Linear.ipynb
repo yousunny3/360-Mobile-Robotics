{
  "cells": [
    {
      "cell_type": "code",
      "execution_count": 34,
      "metadata": {
        "colab": {
          "base_uri": "https://localhost:8080/"
        },
        "id": "Ku9PPs6OaMIM",
        "outputId": "d58d7d6b-a938-4662-8c76-90ccc83dbd82"
      },
      "outputs": [
        {
          "output_type": "stream",
          "name": "stdout",
          "text": [
            "Populating the interactive namespace from numpy and matplotlib\n"
          ]
        },
        {
          "output_type": "stream",
          "name": "stderr",
          "text": [
            "/usr/local/lib/python3.10/dist-packages/IPython/core/magics/pylab.py:159: UserWarning: pylab import has clobbered these variables: ['time']\n",
            "`%matplotlib` prevents importing * from pylab and numpy\n",
            "  warn(\"pylab import has clobbered these variables: %s\"  % clobbered +\n"
          ]
        }
      ],
      "source": [
        "%pylab inline"
      ]
    },
    {
      "cell_type": "markdown",
      "metadata": {
        "id": "O_2UFNO9aMIP"
      },
      "source": [
        "# Building a Robot Simulator in 2D"
      ]
    },
    {
      "cell_type": "code",
      "execution_count": 35,
      "metadata": {
        "id": "T0qb0Tw4aMIQ"
      },
      "outputs": [],
      "source": [
        "# Perfect sensor\n",
        "def sense(x):\n",
        "    return x"
      ]
    },
    {
      "cell_type": "markdown",
      "metadata": {
        "id": "gj19sHpXaMIQ"
      },
      "source": [
        "### Euler integration"
      ]
    },
    {
      "cell_type": "code",
      "execution_count": 36,
      "metadata": {
        "id": "GO_6B0LMaMIQ"
      },
      "outputs": [],
      "source": [
        "def simulate(Δt, x, u):\n",
        "    x += Δt * u\n",
        "    return x"
      ]
    },
    {
      "cell_type": "markdown",
      "metadata": {
        "id": "e1Pfj4cpaMIR"
      },
      "source": [
        "### Linear Control policy"
      ]
    },
    {
      "cell_type": "code",
      "execution_count": 43,
      "metadata": {
        "id": "M6i3kW2qaMIR"
      },
      "outputs": [],
      "source": [
        "def control(t, y):\n",
        "    ### WRITE YOUR CONTROL POLICY HERE:\n",
        "    ux = 2\n",
        "    uy = 1\n",
        "    return array([ux, uy])"
      ]
    },
    {
      "cell_type": "markdown",
      "metadata": {
        "id": "N-Fmdl_haMIR"
      },
      "source": [
        "### Line Trajectory"
      ]
    },
    {
      "cell_type": "code",
      "execution_count": 44,
      "metadata": {
        "id": "cOLV2A7KaMIS"
      },
      "outputs": [],
      "source": [
        "tf = 10.    # Time final\n",
        "Δt = 0.1    # Time step\n",
        "time = linspace(0.,tf, int(tf / Δt) + 1)  # Time interval\n",
        "\n",
        "\n",
        "# Initial conditions\n",
        "x = array([2., 1.])\n",
        "x_log = [copy(x)]\n",
        "\n",
        "for t in time:\n",
        "    y = sense(x)\n",
        "    u = control(t, y)\n",
        "    x = simulate(Δt, x, u)\n",
        "    x_log.append(copy(x))\n",
        "\n",
        "x_log = array(x_log)"
      ]
    },
    {
      "cell_type": "code",
      "execution_count": 45,
      "metadata": {
        "colab": {
          "base_uri": "https://localhost:8080/",
          "height": 448
        },
        "id": "_7d2oyNZaMIS",
        "outputId": "3e678506-0f6e-441a-99bd-fdc84d88f420"
      },
      "outputs": [
        {
          "output_type": "execute_result",
          "data": {
            "text/plain": [
              "[<matplotlib.lines.Line2D at 0x7e9840631f60>]"
            ]
          },
          "metadata": {},
          "execution_count": 45
        },
        {
          "output_type": "display_data",
          "data": {
            "text/plain": [
              "<Figure size 640x480 with 1 Axes>"
            ],
            "image/png": "[encoded data removed]"
          },
          "metadata": {}
        }
      ],
      "source": [
        "grid()\n",
        "plot(x_log[:,0], x_log[:,1])"
      ]
    }
  ],
  "metadata": {
    "kernelspec": {
      "display_name": "Python 3 (ipykernel)",
      "language": "python",
      "name": "python3"
    },
    "language_info": {
      "codemirror_mode": {
        "name": "ipython",
        "version": 3
      },
      "file_extension": ".py",
      "mimetype": "text/x-python",
      "name": "python",
      "nbconvert_exporter": "python",
      "pygments_lexer": "ipython3",
      "version": "3.8.8"
    },
    "colab": {
      "provenance": []
    }
  },
  "nbformat": 4,
  "nbformat_minor": 0
}